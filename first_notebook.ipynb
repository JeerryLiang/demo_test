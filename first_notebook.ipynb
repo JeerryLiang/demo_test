{
    "cells": [
        {
            "metadata": {},
            "cell_type": "code",
            "source": "\nimport types\nimport pandas as pd\nfrom botocore.client import Config\nimport ibm_boto3\n\ndef __iter__(self): return 0\n\n# @hidden_cell\n# The following code accesses a file in your IBM Cloud Object Storage. It includes your credentials.\n# You might want to remove those credentials before you share the notebook.\nclient_a264a7082bc94ac89d8a5cce21d226ea = ibm_boto3.client(service_name='s3',\n    ibm_api_key_id='iUBhXW-Y7axSThfd_bOnQJta4HTk_1NlGM3scAmseCqa',\n    ibm_auth_endpoint=\"https://iam.cloud.ibm.com/oidc/token\",\n    config=Config(signature_version='oauth'),\n    endpoint_url='https://s3-api.us-geo.objectstorage.service.networklayer.com')\n\nbody = client_a264a7082bc94ac89d8a5cce21d226ea.get_object(Bucket='myfirstproject-donotdelete-pr-eloopfjj5lufng',Key='bike_sharing.csv')['Body']\n# add missing __iter__ method, so pandas accepts body as file-like object\nif not hasattr(body, \"__iter__\"): body.__iter__ = types.MethodType( __iter__, body )\n\ndf_data_1 = pd.read_csv(body)\ndf_data_1.head()\n",
            "execution_count": 1,
            "outputs": [
                {
                    "output_type": "execute_result",
                    "execution_count": 1,
                    "data": {
                        "text/plain": "   instant      dteday  season  yr  mnth  holiday  weekday  workingday  \\\n0        1  2011-01-01       1   0     1        0        6           0   \n1        2  2011-01-02       1   0     1        0        0           0   \n2        3  2011-01-03       1   0     1        0        1           1   \n3        4  2011-01-04       1   0     1        0        2           1   \n4        5  2011-01-05       1   0     1        0        3           1   \n\n   weathersit      temp     atemp       hum  windspeed  casual  registered  \\\n0           2  0.344167  0.363625  0.805833   0.160446     331         654   \n1           2  0.363478  0.353739  0.696087   0.248539     131         670   \n2           1  0.196364  0.189405  0.437273   0.248309     120        1229   \n3           1  0.200000  0.212122  0.590435   0.160296     108        1454   \n4           1  0.226957  0.229270  0.436957   0.186900      82        1518   \n\n    cnt  \n0   985  \n1   801  \n2  1349  \n3  1562  \n4  1600  ",
                        "text/html": "<div>\n<style scoped>\n    .dataframe tbody tr th:only-of-type {\n        vertical-align: middle;\n    }\n\n    .dataframe tbody tr th {\n        vertical-align: top;\n    }\n\n    .dataframe thead th {\n        text-align: right;\n    }\n</style>\n<table border=\"1\" class=\"dataframe\">\n  <thead>\n    <tr style=\"text-align: right;\">\n      <th></th>\n      <th>instant</th>\n      <th>dteday</th>\n      <th>season</th>\n      <th>yr</th>\n      <th>mnth</th>\n      <th>holiday</th>\n      <th>weekday</th>\n      <th>workingday</th>\n      <th>weathersit</th>\n      <th>temp</th>\n      <th>atemp</th>\n      <th>hum</th>\n      <th>windspeed</th>\n      <th>casual</th>\n      <th>registered</th>\n      <th>cnt</th>\n    </tr>\n  </thead>\n  <tbody>\n    <tr>\n      <th>0</th>\n      <td>1</td>\n      <td>2011-01-01</td>\n      <td>1</td>\n      <td>0</td>\n      <td>1</td>\n      <td>0</td>\n      <td>6</td>\n      <td>0</td>\n      <td>2</td>\n      <td>0.344167</td>\n      <td>0.363625</td>\n      <td>0.805833</td>\n      <td>0.160446</td>\n      <td>331</td>\n      <td>654</td>\n      <td>985</td>\n    </tr>\n    <tr>\n      <th>1</th>\n      <td>2</td>\n      <td>2011-01-02</td>\n      <td>1</td>\n      <td>0</td>\n      <td>1</td>\n      <td>0</td>\n      <td>0</td>\n      <td>0</td>\n      <td>2</td>\n      <td>0.363478</td>\n      <td>0.353739</td>\n      <td>0.696087</td>\n      <td>0.248539</td>\n      <td>131</td>\n      <td>670</td>\n      <td>801</td>\n    </tr>\n    <tr>\n      <th>2</th>\n      <td>3</td>\n      <td>2011-01-03</td>\n      <td>1</td>\n      <td>0</td>\n      <td>1</td>\n      <td>0</td>\n      <td>1</td>\n      <td>1</td>\n      <td>1</td>\n      <td>0.196364</td>\n      <td>0.189405</td>\n      <td>0.437273</td>\n      <td>0.248309</td>\n      <td>120</td>\n      <td>1229</td>\n      <td>1349</td>\n    </tr>\n    <tr>\n      <th>3</th>\n      <td>4</td>\n      <td>2011-01-04</td>\n      <td>1</td>\n      <td>0</td>\n      <td>1</td>\n      <td>0</td>\n      <td>2</td>\n      <td>1</td>\n      <td>1</td>\n      <td>0.200000</td>\n      <td>0.212122</td>\n      <td>0.590435</td>\n      <td>0.160296</td>\n      <td>108</td>\n      <td>1454</td>\n      <td>1562</td>\n    </tr>\n    <tr>\n      <th>4</th>\n      <td>5</td>\n      <td>2011-01-05</td>\n      <td>1</td>\n      <td>0</td>\n      <td>1</td>\n      <td>0</td>\n      <td>3</td>\n      <td>1</td>\n      <td>1</td>\n      <td>0.226957</td>\n      <td>0.229270</td>\n      <td>0.436957</td>\n      <td>0.186900</td>\n      <td>82</td>\n      <td>1518</td>\n      <td>1600</td>\n    </tr>\n  </tbody>\n</table>\n</div>"
                    },
                    "metadata": {}
                }
            ]
        },
        {
            "metadata": {},
            "cell_type": "code",
            "source": "",
            "execution_count": null,
            "outputs": []
        }
    ],
    "metadata": {
        "kernelspec": {
            "name": "python3",
            "display_name": "Python 3.7",
            "language": "python"
        },
        "language_info": {
            "name": "python",
            "version": "3.7.9",
            "mimetype": "text/x-python",
            "codemirror_mode": {
                "name": "ipython",
                "version": 3
            },
            "pygments_lexer": "ipython3",
            "nbconvert_exporter": "python",
            "file_extension": ".py"
        }
    },
    "nbformat": 4,
    "nbformat_minor": 1
}